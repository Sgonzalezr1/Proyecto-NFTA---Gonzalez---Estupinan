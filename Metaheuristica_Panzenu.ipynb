{
  "nbformat": 4,
  "nbformat_minor": 0,
  "metadata": {
    "colab": {
      "provenance": []
    },
    "kernelspec": {
      "name": "python3",
      "display_name": "Python 3"
    },
    "language_info": {
      "name": "python"
    }
  },
  "cells": [
    {
      "cell_type": "code",
      "execution_count": 602,
      "metadata": {
        "id": "QV4vV7Kiv9YY"
      },
      "outputs": [],
      "source": [
        "import numpy as np\n",
        "import random"
      ]
    },
    {
      "cell_type": "code",
      "source": [
        "# Parámetros y constantes\n",
        "m = 96         # Número de intervalos\n",
        "F = 2          # Número de sentidos (direcciones)\n",
        "n= [5, 5]   # Flota por sentido\n",
        "alpha = 10     # Duración de cada intervalo\n",
        "t_ruta = 40    # Tiempo de ruta\n",
        "t_min = 5      # Tiempo de maniobra\n",
        "h_min = 5    # Intervalo mínimo entre servicios\n",
        "h_max = 15     # Intervalo máximo entre servicios\n",
        "C = 45         # Capacidad del bus"
      ],
      "metadata": {
        "id": "e5B5U67zwIKq"
      },
      "execution_count": 617,
      "outputs": []
    },
    {
      "cell_type": "code",
      "source": [
        "import pandas as pd"
      ],
      "metadata": {
        "id": "ShzhFnzbwRJY"
      },
      "execution_count": 618,
      "outputs": []
    },
    {
      "cell_type": "code",
      "source": [
        "df = pd.read_excel(\"Datos Demanda.xlsx\")\n",
        "\n",
        "# Extraer los valores de la columna 5 (índice 4, ya que los índices comienzan en 0)\n",
        "Tasa_Panzenu_1 = df[\"Tasa Panzenu Sentido 1\"].tolist()\n",
        "\n",
        "# Mostrar la lista\n",
        "print(Tasa_Panzenu_1)\n",
        "len(Tasa_Panzenu_1)"
      ],
      "metadata": {
        "colab": {
          "base_uri": "https://localhost:8080/"
        },
        "id": "72TLv3KewX7p",
        "outputId": "06cbaaff-be9c-4d36-b745-19f8fd381c6a"
      },
      "execution_count": 619,
      "outputs": [
        {
          "output_type": "stream",
          "name": "stdout",
          "text": [
            "[0.8, 1.0, 1.1, 1.3, 1.4, 1.6, 1.7, 1.8, 2.0, 2.1, 2.2, 2.3, 2.4, 2.4, 2.5, 2.6, 2.6, 2.7, 2.7, 2.7, 2.8, 2.8, 2.8, 2.8, 2.8, 2.8, 2.8, 2.8, 2.8, 2.8, 2.8, 2.8, 2.8, 2.7, 2.7, 2.7, 2.7, 2.7, 2.7, 2.7, 2.7, 2.7, 2.7, 2.7, 2.7, 2.7, 2.7, 2.7, 2.7, 2.7, 2.7, 2.7, 2.7, 2.8, 2.8, 2.8, 2.9, 2.9, 2.9, 3.0, 3.0, 3.1, 3.1, 3.2, 3.2, 3.2, 3.3, 3.3, 3.3, 3.3, 3.3, 3.3, 3.3, 3.3, 3.3, 3.2, 3.1, 3.0, 3.0, 2.9, 2.7, 2.6, 2.5, 2.3, 2.2, 2.1, 1.9, 1.8, 1.6, 1.5, 1.4, 1.2, 1.1, 1.0, 0.9, 0.8]\n"
          ]
        },
        {
          "output_type": "execute_result",
          "data": {
            "text/plain": [
              "96"
            ]
          },
          "metadata": {},
          "execution_count": 619
        }
      ]
    },
    {
      "cell_type": "code",
      "source": [
        "Tasa_Panzenu_2 = df[\"Tasa Panzenu Sentido 2\"].tolist()\n",
        "\n",
        "# Mostrar la lista\n",
        "print(Tasa_Panzenu_2)\n",
        "len(Tasa_Panzenu_2)"
      ],
      "metadata": {
        "colab": {
          "base_uri": "https://localhost:8080/"
        },
        "id": "vNDfXnInwgwQ",
        "outputId": "a89e68f7-98f4-430c-9ae1-3f0b911135af"
      },
      "execution_count": 620,
      "outputs": [
        {
          "output_type": "stream",
          "name": "stdout",
          "text": [
            "[0.8, 1.0, 1.1, 1.3, 1.4, 1.6, 1.7, 1.8, 2.0, 2.1, 2.2, 2.3, 2.4, 2.4, 2.5, 2.6, 2.6, 2.7, 2.7, 2.7, 2.8, 2.8, 2.8, 2.8, 2.8, 2.8, 2.8, 2.8, 2.8, 2.8, 2.8, 2.8, 2.8, 2.7, 2.7, 2.7, 2.7, 2.7, 2.7, 2.7, 2.7, 2.7, 2.7, 2.7, 2.7, 2.7, 2.7, 2.7, 2.7, 2.7, 2.7, 2.7, 2.7, 2.8, 2.8, 2.8, 2.9, 2.9, 2.9, 3.0, 3.0, 3.1, 3.1, 3.2, 3.2, 3.2, 3.3, 3.3, 3.3, 3.3, 3.3, 3.3, 3.3, 3.3, 3.3, 3.2, 3.1, 3.0, 3.0, 2.9, 2.7, 2.6, 2.5, 2.3, 2.2, 2.1, 1.9, 1.8, 1.6, 1.5, 1.4, 1.2, 1.1, 1.0, 0.9, 0.8]\n"
          ]
        },
        {
          "output_type": "execute_result",
          "data": {
            "text/plain": [
              "96"
            ]
          },
          "metadata": {},
          "execution_count": 620
        }
      ]
    },
    {
      "cell_type": "code",
      "source": [
        "tasas= [[Tasa_Panzenu_1[i], Tasa_Panzenu_2[i]] for i in range(len(Tasa_Panzenu_1))]\n",
        "print(tasas)"
      ],
      "metadata": {
        "colab": {
          "base_uri": "https://localhost:8080/"
        },
        "id": "j_qQ0T6wwmJF",
        "outputId": "12af7057-6fdf-46fb-eec5-116174bc9878"
      },
      "execution_count": 621,
      "outputs": [
        {
          "output_type": "stream",
          "name": "stdout",
          "text": [
            "[[0.8, 0.8], [1.0, 1.0], [1.1, 1.1], [1.3, 1.3], [1.4, 1.4], [1.6, 1.6], [1.7, 1.7], [1.8, 1.8], [2.0, 2.0], [2.1, 2.1], [2.2, 2.2], [2.3, 2.3], [2.4, 2.4], [2.4, 2.4], [2.5, 2.5], [2.6, 2.6], [2.6, 2.6], [2.7, 2.7], [2.7, 2.7], [2.7, 2.7], [2.8, 2.8], [2.8, 2.8], [2.8, 2.8], [2.8, 2.8], [2.8, 2.8], [2.8, 2.8], [2.8, 2.8], [2.8, 2.8], [2.8, 2.8], [2.8, 2.8], [2.8, 2.8], [2.8, 2.8], [2.8, 2.8], [2.7, 2.7], [2.7, 2.7], [2.7, 2.7], [2.7, 2.7], [2.7, 2.7], [2.7, 2.7], [2.7, 2.7], [2.7, 2.7], [2.7, 2.7], [2.7, 2.7], [2.7, 2.7], [2.7, 2.7], [2.7, 2.7], [2.7, 2.7], [2.7, 2.7], [2.7, 2.7], [2.7, 2.7], [2.7, 2.7], [2.7, 2.7], [2.7, 2.7], [2.8, 2.8], [2.8, 2.8], [2.8, 2.8], [2.9, 2.9], [2.9, 2.9], [2.9, 2.9], [3.0, 3.0], [3.0, 3.0], [3.1, 3.1], [3.1, 3.1], [3.2, 3.2], [3.2, 3.2], [3.2, 3.2], [3.3, 3.3], [3.3, 3.3], [3.3, 3.3], [3.3, 3.3], [3.3, 3.3], [3.3, 3.3], [3.3, 3.3], [3.3, 3.3], [3.3, 3.3], [3.2, 3.2], [3.1, 3.1], [3.0, 3.0], [3.0, 3.0], [2.9, 2.9], [2.7, 2.7], [2.6, 2.6], [2.5, 2.5], [2.3, 2.3], [2.2, 2.2], [2.1, 2.1], [1.9, 1.9], [1.8, 1.8], [1.6, 1.6], [1.5, 1.5], [1.4, 1.4], [1.2, 1.2], [1.1, 1.1], [1.0, 1.0], [0.9, 0.9], [0.8, 0.8]]\n"
          ]
        }
      ]
    },
    {
      "cell_type": "code",
      "source": [
        "x = np.zeros((max(n), F, m), dtype=int) # Matriz de despacho\n",
        "b = np.zeros((m, F), dtype=int)                     # Pasajeros que abordan\n",
        "w = np.zeros((m, F), dtype=int)                     # Pasajeros que esperan\n",
        "llegadas_pasajeros = np.zeros((m, F))"
      ],
      "metadata": {
        "id": "9kOEhTnGwsYT"
      },
      "execution_count": 622,
      "outputs": []
    },
    {
      "cell_type": "code",
      "source": [
        "#LLenar la matriz de pasajeros que llegan teniendo en cuenta la tasas de llegada y el tamaño del intervalo\n",
        "for t in range(m):\n",
        "    for f in range(F):\n",
        "        llegadas_pasajeros[t, f] = tasas[t][f] * alpha"
      ],
      "metadata": {
        "id": "YQA5E5Yhw0V8"
      },
      "execution_count": 623,
      "outputs": []
    },
    {
      "cell_type": "code",
      "source": [
        "#Llenar el primer intervalos de la matriz de pasajeros esperando\n",
        "for t in range(m):\n",
        "    for f in range(F):\n",
        "        if t == 0:\n",
        "            w[t,f]=llegadas_pasajeros[t, f]  # La cantidad de pasajeros esperando en el primer intervalo es igual a la cantidad de pasajeros que llegan en ese intervalo\n"
      ],
      "metadata": {
        "id": "GLKu32k-1aTl"
      },
      "execution_count": 624,
      "outputs": []
    },
    {
      "cell_type": "code",
      "source": [
        "print (w)"
      ],
      "metadata": {
        "colab": {
          "base_uri": "https://localhost:8080/"
        },
        "id": "mnoPtI_u2Q0Q",
        "outputId": "10e59795-a9c8-4d96-d4b3-55f5c6960275"
      },
      "execution_count": 625,
      "outputs": [
        {
          "output_type": "stream",
          "name": "stdout",
          "text": [
            "[[8 8]\n",
            " [0 0]\n",
            " [0 0]\n",
            " [0 0]\n",
            " [0 0]\n",
            " [0 0]\n",
            " [0 0]\n",
            " [0 0]\n",
            " [0 0]\n",
            " [0 0]\n",
            " [0 0]\n",
            " [0 0]\n",
            " [0 0]\n",
            " [0 0]\n",
            " [0 0]\n",
            " [0 0]\n",
            " [0 0]\n",
            " [0 0]\n",
            " [0 0]\n",
            " [0 0]\n",
            " [0 0]\n",
            " [0 0]\n",
            " [0 0]\n",
            " [0 0]\n",
            " [0 0]\n",
            " [0 0]\n",
            " [0 0]\n",
            " [0 0]\n",
            " [0 0]\n",
            " [0 0]\n",
            " [0 0]\n",
            " [0 0]\n",
            " [0 0]\n",
            " [0 0]\n",
            " [0 0]\n",
            " [0 0]\n",
            " [0 0]\n",
            " [0 0]\n",
            " [0 0]\n",
            " [0 0]\n",
            " [0 0]\n",
            " [0 0]\n",
            " [0 0]\n",
            " [0 0]\n",
            " [0 0]\n",
            " [0 0]\n",
            " [0 0]\n",
            " [0 0]\n",
            " [0 0]\n",
            " [0 0]\n",
            " [0 0]\n",
            " [0 0]\n",
            " [0 0]\n",
            " [0 0]\n",
            " [0 0]\n",
            " [0 0]\n",
            " [0 0]\n",
            " [0 0]\n",
            " [0 0]\n",
            " [0 0]\n",
            " [0 0]\n",
            " [0 0]\n",
            " [0 0]\n",
            " [0 0]\n",
            " [0 0]\n",
            " [0 0]\n",
            " [0 0]\n",
            " [0 0]\n",
            " [0 0]\n",
            " [0 0]\n",
            " [0 0]\n",
            " [0 0]\n",
            " [0 0]\n",
            " [0 0]\n",
            " [0 0]\n",
            " [0 0]\n",
            " [0 0]\n",
            " [0 0]\n",
            " [0 0]\n",
            " [0 0]\n",
            " [0 0]\n",
            " [0 0]\n",
            " [0 0]\n",
            " [0 0]\n",
            " [0 0]\n",
            " [0 0]\n",
            " [0 0]\n",
            " [0 0]\n",
            " [0 0]\n",
            " [0 0]\n",
            " [0 0]\n",
            " [0 0]\n",
            " [0 0]\n",
            " [0 0]\n",
            " [0 0]\n",
            " [0 0]]\n"
          ]
        }
      ]
    },
    {
      "cell_type": "code",
      "source": [
        "def generar_rcl(i, f):\n",
        "    rcl = []\n",
        "    #Asigno cada bus i del sentido f al intervalo t\n",
        "    for t in range(m):\n",
        "      x[i,f,t]=1\n",
        "      #Solo puedo asignar un bus i a un intervalo t en el sentido f\n",
        "      if sum(x[:,f,t])>1:\n",
        "        x[i,f,t]=0\n",
        "        continue\n",
        "      # Calcula el número de intervalos que representan los tiempos mínimos y máximos\n",
        "      tiempo_min_intervalos = int((2 * t_ruta + 2 * t_min) / alpha)\n",
        "      tiempo_max_intervalos = int((2 * t_ruta + 2 * t_min + 2 * h_max) / alpha)\n",
        "      # Asegurar que el despacho se produzca en el rango permitido\n",
        "      if t - tiempo_max_intervalos >=0:\n",
        "        if sum(x[i, f, t - k] for k in range(tiempo_min_intervalos, tiempo_max_intervalos + 1)) >= x[i, f, t]:\n",
        "           x[i,f,t]=1\n",
        "        else:\n",
        "           x[i,f,t]=0\n",
        "           continue\n",
        "      # Si se ha asignado un bus i en el intervalo t < tiempo_min_intervalos, ese mismo bus no puede volver a ser asignado a otro intervalo hasta no cumplir con el tiempo minimo\n",
        "      if t>=1 and t<tiempo_min_intervalos:\n",
        "         if sum(x[i, f,k] for k in range(t+1))<= 1:\n",
        "           x[i,f,t]=1\n",
        "         else:\n",
        "           x[i,f,t]=0\n",
        "           continue\n",
        "      # Si se ha asignado un bus i en el intervalo t, ese mismo bus no puede volver a ser asignado a otro intervalo hasta no cumplir con el tiempo minimo\n",
        "      if t>= tiempo_min_intervalos:\n",
        "        if sum(x[i,f,t-k] for k in range (0, tiempo_min_intervalos))>1:\n",
        "          x[i,f,t]=0\n",
        "          continue\n",
        "      # Si el bus i se despacha en el intervalo t, asegurarse de que todos los buses anteriores ya se han despachado\n",
        "      if i>0:\n",
        "         if sum(x[j, f, t_j] for j in range(i) for t_j in range(t+1))>=x[i,f,t]:\n",
        "            x[i,f,t]=1\n",
        "         else:\n",
        "            x[i,f,t]=0\n",
        "            continue\n",
        "      # Calcula los intervalos para `h_min` y `h_max`\n",
        "      min_intervalos = int(h_min / alpha)\n",
        "      max_intervalos = int(h_max / alpha)\n",
        "      # Asegurar que si el bus `i` está en el intervalo `t`, el bus `j` se asignó en algún intervalo entre [t - max_intervalos, t - min_intervalos]\n",
        "      if i>=1 and t - max_intervalos >= 0:\n",
        "         # Si el bus `i` se despacha en `t`, el bus `j` debió ser despachado en algún intervalo entre `t - max_intervalos` y `t - min_intervalos`\n",
        "         if sum(x[i-1,f,t-k]for k in range(min_intervalos, max_intervalos + 1))>= x[i,f,t]:\n",
        "           x[i,f,t]=1\n",
        "         else:\n",
        "           x[i,f,t]=0\n",
        "           continue\n",
        "      #El primer despacho del primer bus debe asignarse entre [h_min, h_max]\n",
        "      if t>=0 and t<int(h_min/alpha) and i==0:\n",
        "        x[i,f,t]=0\n",
        "        continue\n",
        "      #El ultimo despacho que se asigne debe asegurar que el bus logra realizar toda la ruta antes de que se termine el ultimo intervalo\n",
        "      t_ruta_intervals = int(t_ruta / alpha)\n",
        "      #Calcular el límite de intervalos\n",
        "      t_limite = m - (t_ruta_intervals)\n",
        "      if t >=t_limite and t<m:\n",
        "        x[i, f,t] = 0\n",
        "        continue\n",
        "      rcl.append(t)\n",
        "    return rcl\n"
      ],
      "metadata": {
        "id": "HtwHsYX-xWhh"
      },
      "execution_count": 626,
      "outputs": []
    },
    {
      "cell_type": "code",
      "source": [
        "generar_rcl(0,0)"
      ],
      "metadata": {
        "colab": {
          "base_uri": "https://localhost:8080/"
        },
        "id": "w7hjJX4w1rnv",
        "outputId": "1b63f8b5-25cd-4dc1-ae4f-d27fc4b76690"
      },
      "execution_count": 627,
      "outputs": [
        {
          "output_type": "execute_result",
          "data": {
            "text/plain": [
              "[0, 9, 18, 27, 36, 45, 54, 63, 72, 81, 90]"
            ]
          },
          "metadata": {},
          "execution_count": 627
        }
      ]
    },
    {
      "cell_type": "code",
      "source": [
        "def metaheuristica():\n",
        "        for f in range(F):\n",
        "           for i in range(n[f]):\n",
        "              # Generar la lista de intervalos t factibles para asignar el bus i\n",
        "              rcl = generar_rcl(i, f)\n",
        "              if len(rcl) == 0:\n",
        "                 continue\n",
        "              # Despachar el bus i en todos sus posibles intervalos t factibles\n",
        "              for t in rcl:\n",
        "                x[i, f, t] = 1\n",
        "        for f in range(F):\n",
        "            for t in range(m-1):\n",
        "                #La cantidad de pasajeros que abordan el bus i no puede superar la capacidad del bus\n",
        "                b[t, f] = min(sum(x[i,f,t] * C for i in range(n[f])), w[t,f])\n",
        "                #Actualizacion de la cantidad de pasajeros esperando en cada intervalo t en el sentido f\n",
        "                w[t,f]-=b[t,f]\n",
        "                w[t+1,f]=w[t,f]+llegadas_pasajeros[t+1,f]-b[t+1,f]\n",
        "        pasajeros_esperando=np.sum(w)\n",
        "        return pasajeros_esperando"
      ],
      "metadata": {
        "id": "Q8kfgZ2eQvFK"
      },
      "execution_count": 628,
      "outputs": []
    },
    {
      "cell_type": "code",
      "source": [
        "metaheuristica()"
      ],
      "metadata": {
        "colab": {
          "base_uri": "https://localhost:8080/"
        },
        "id": "RDZgs2rg2dUN",
        "outputId": "620a4f5f-87ae-4b32-8d08-a44181dc615f"
      },
      "execution_count": 629,
      "outputs": [
        {
          "output_type": "execute_result",
          "data": {
            "text/plain": [
              "28614"
            ]
          },
          "metadata": {},
          "execution_count": 629
        }
      ]
    },
    {
      "cell_type": "code",
      "source": [
        "print(\"Asignaciones de servicios:\")\n",
        "for i in range(max(n)):\n",
        "    for f in range(F):\n",
        "        for t in range(m):\n",
        "            if x[i,f, t] == 1:\n",
        "               print(f\"Bus {i}, Sentido {f}, Intervalo {t}\")\n",
        "\n",
        "print(\"Pasajeros abordando por intervalo y sentido:\")\n",
        "print(b)\n",
        "print(\"Pasajeros esperando por intervalo y sentido:\")\n",
        "print(w)\n",
        "print(\"Pasajeros llegando por intervalo y sentido\")\n",
        "print(llegadas_pasajeros)"
      ],
      "metadata": {
        "colab": {
          "base_uri": "https://localhost:8080/"
        },
        "id": "ueq8XAgM2kXH",
        "outputId": "4d3324a5-8ad1-4f70-a446-2321466416f3"
      },
      "execution_count": 630,
      "outputs": [
        {
          "output_type": "stream",
          "name": "stdout",
          "text": [
            "Asignaciones de servicios:\n",
            "Bus 0, Sentido 0, Intervalo 0\n",
            "Bus 0, Sentido 0, Intervalo 9\n",
            "Bus 0, Sentido 0, Intervalo 18\n",
            "Bus 0, Sentido 0, Intervalo 27\n",
            "Bus 0, Sentido 0, Intervalo 36\n",
            "Bus 0, Sentido 0, Intervalo 45\n",
            "Bus 0, Sentido 0, Intervalo 54\n",
            "Bus 0, Sentido 0, Intervalo 63\n",
            "Bus 0, Sentido 0, Intervalo 72\n",
            "Bus 0, Sentido 0, Intervalo 81\n",
            "Bus 0, Sentido 0, Intervalo 90\n",
            "Bus 0, Sentido 1, Intervalo 0\n",
            "Bus 0, Sentido 1, Intervalo 9\n",
            "Bus 0, Sentido 1, Intervalo 18\n",
            "Bus 0, Sentido 1, Intervalo 27\n",
            "Bus 0, Sentido 1, Intervalo 36\n",
            "Bus 0, Sentido 1, Intervalo 45\n",
            "Bus 0, Sentido 1, Intervalo 54\n",
            "Bus 0, Sentido 1, Intervalo 63\n",
            "Bus 0, Sentido 1, Intervalo 72\n",
            "Bus 0, Sentido 1, Intervalo 81\n",
            "Bus 0, Sentido 1, Intervalo 90\n",
            "Bus 1, Sentido 0, Intervalo 1\n",
            "Bus 1, Sentido 0, Intervalo 10\n",
            "Bus 1, Sentido 0, Intervalo 19\n",
            "Bus 1, Sentido 0, Intervalo 28\n",
            "Bus 1, Sentido 0, Intervalo 37\n",
            "Bus 1, Sentido 0, Intervalo 46\n",
            "Bus 1, Sentido 0, Intervalo 55\n",
            "Bus 1, Sentido 0, Intervalo 64\n",
            "Bus 1, Sentido 0, Intervalo 73\n",
            "Bus 1, Sentido 0, Intervalo 82\n",
            "Bus 1, Sentido 0, Intervalo 91\n",
            "Bus 1, Sentido 1, Intervalo 1\n",
            "Bus 1, Sentido 1, Intervalo 10\n",
            "Bus 1, Sentido 1, Intervalo 19\n",
            "Bus 1, Sentido 1, Intervalo 28\n",
            "Bus 1, Sentido 1, Intervalo 37\n",
            "Bus 1, Sentido 1, Intervalo 46\n",
            "Bus 1, Sentido 1, Intervalo 55\n",
            "Bus 1, Sentido 1, Intervalo 64\n",
            "Bus 1, Sentido 1, Intervalo 73\n",
            "Bus 1, Sentido 1, Intervalo 82\n",
            "Bus 1, Sentido 1, Intervalo 91\n",
            "Bus 2, Sentido 0, Intervalo 2\n",
            "Bus 2, Sentido 0, Intervalo 11\n",
            "Bus 2, Sentido 0, Intervalo 20\n",
            "Bus 2, Sentido 0, Intervalo 29\n",
            "Bus 2, Sentido 0, Intervalo 38\n",
            "Bus 2, Sentido 0, Intervalo 47\n",
            "Bus 2, Sentido 0, Intervalo 56\n",
            "Bus 2, Sentido 0, Intervalo 65\n",
            "Bus 2, Sentido 0, Intervalo 74\n",
            "Bus 2, Sentido 0, Intervalo 83\n",
            "Bus 2, Sentido 1, Intervalo 2\n",
            "Bus 2, Sentido 1, Intervalo 11\n",
            "Bus 2, Sentido 1, Intervalo 20\n",
            "Bus 2, Sentido 1, Intervalo 29\n",
            "Bus 2, Sentido 1, Intervalo 38\n",
            "Bus 2, Sentido 1, Intervalo 47\n",
            "Bus 2, Sentido 1, Intervalo 56\n",
            "Bus 2, Sentido 1, Intervalo 65\n",
            "Bus 2, Sentido 1, Intervalo 74\n",
            "Bus 2, Sentido 1, Intervalo 83\n",
            "Bus 3, Sentido 0, Intervalo 3\n",
            "Bus 3, Sentido 0, Intervalo 12\n",
            "Bus 3, Sentido 0, Intervalo 21\n",
            "Bus 3, Sentido 0, Intervalo 30\n",
            "Bus 3, Sentido 0, Intervalo 39\n",
            "Bus 3, Sentido 0, Intervalo 48\n",
            "Bus 3, Sentido 0, Intervalo 57\n",
            "Bus 3, Sentido 0, Intervalo 66\n",
            "Bus 3, Sentido 0, Intervalo 75\n",
            "Bus 3, Sentido 0, Intervalo 84\n",
            "Bus 3, Sentido 1, Intervalo 3\n",
            "Bus 3, Sentido 1, Intervalo 12\n",
            "Bus 3, Sentido 1, Intervalo 21\n",
            "Bus 3, Sentido 1, Intervalo 30\n",
            "Bus 3, Sentido 1, Intervalo 39\n",
            "Bus 3, Sentido 1, Intervalo 48\n",
            "Bus 3, Sentido 1, Intervalo 57\n",
            "Bus 3, Sentido 1, Intervalo 66\n",
            "Bus 3, Sentido 1, Intervalo 75\n",
            "Bus 3, Sentido 1, Intervalo 84\n",
            "Bus 4, Sentido 0, Intervalo 4\n",
            "Bus 4, Sentido 0, Intervalo 13\n",
            "Bus 4, Sentido 0, Intervalo 22\n",
            "Bus 4, Sentido 0, Intervalo 31\n",
            "Bus 4, Sentido 0, Intervalo 40\n",
            "Bus 4, Sentido 0, Intervalo 49\n",
            "Bus 4, Sentido 0, Intervalo 58\n",
            "Bus 4, Sentido 0, Intervalo 67\n",
            "Bus 4, Sentido 0, Intervalo 76\n",
            "Bus 4, Sentido 0, Intervalo 85\n",
            "Bus 4, Sentido 1, Intervalo 4\n",
            "Bus 4, Sentido 1, Intervalo 13\n",
            "Bus 4, Sentido 1, Intervalo 22\n",
            "Bus 4, Sentido 1, Intervalo 31\n",
            "Bus 4, Sentido 1, Intervalo 40\n",
            "Bus 4, Sentido 1, Intervalo 49\n",
            "Bus 4, Sentido 1, Intervalo 58\n",
            "Bus 4, Sentido 1, Intervalo 67\n",
            "Bus 4, Sentido 1, Intervalo 76\n",
            "Bus 4, Sentido 1, Intervalo 85\n",
            "Pasajeros abordando por intervalo y sentido:\n",
            "[[ 8  8]\n",
            " [10 10]\n",
            " [11 11]\n",
            " [13 13]\n",
            " [14 14]\n",
            " [ 0  0]\n",
            " [ 0  0]\n",
            " [ 0  0]\n",
            " [ 0  0]\n",
            " [45 45]\n",
            " [45 45]\n",
            " [45 45]\n",
            " [26 26]\n",
            " [24 24]\n",
            " [ 0  0]\n",
            " [ 0  0]\n",
            " [ 0  0]\n",
            " [ 0  0]\n",
            " [45 45]\n",
            " [45 45]\n",
            " [45 45]\n",
            " [45 45]\n",
            " [45 45]\n",
            " [ 0  0]\n",
            " [ 0  0]\n",
            " [ 0  0]\n",
            " [ 0  0]\n",
            " [45 45]\n",
            " [45 45]\n",
            " [45 45]\n",
            " [45 45]\n",
            " [45 45]\n",
            " [ 0  0]\n",
            " [ 0  0]\n",
            " [ 0  0]\n",
            " [ 0  0]\n",
            " [45 45]\n",
            " [45 45]\n",
            " [45 45]\n",
            " [45 45]\n",
            " [45 45]\n",
            " [ 0  0]\n",
            " [ 0  0]\n",
            " [ 0  0]\n",
            " [ 0  0]\n",
            " [45 45]\n",
            " [45 45]\n",
            " [45 45]\n",
            " [45 45]\n",
            " [45 45]\n",
            " [ 0  0]\n",
            " [ 0  0]\n",
            " [ 0  0]\n",
            " [ 0  0]\n",
            " [45 45]\n",
            " [45 45]\n",
            " [45 45]\n",
            " [45 45]\n",
            " [45 45]\n",
            " [ 0  0]\n",
            " [ 0  0]\n",
            " [ 0  0]\n",
            " [ 0  0]\n",
            " [45 45]\n",
            " [45 45]\n",
            " [45 45]\n",
            " [45 45]\n",
            " [45 45]\n",
            " [ 0  0]\n",
            " [ 0  0]\n",
            " [ 0  0]\n",
            " [ 0  0]\n",
            " [45 45]\n",
            " [45 45]\n",
            " [45 45]\n",
            " [45 45]\n",
            " [45 45]\n",
            " [ 0  0]\n",
            " [ 0  0]\n",
            " [ 0  0]\n",
            " [ 0  0]\n",
            " [45 45]\n",
            " [45 45]\n",
            " [45 45]\n",
            " [45 45]\n",
            " [45 45]\n",
            " [ 0  0]\n",
            " [ 0  0]\n",
            " [ 0  0]\n",
            " [ 0  0]\n",
            " [45 45]\n",
            " [45 45]\n",
            " [ 0  0]\n",
            " [ 0  0]\n",
            " [ 0  0]\n",
            " [ 0  0]]\n",
            "Pasajeros esperando por intervalo y sentido:\n",
            "[[  0   0]\n",
            " [  0   0]\n",
            " [  0   0]\n",
            " [  0   0]\n",
            " [  0   0]\n",
            " [ 16  16]\n",
            " [ 33  33]\n",
            " [ 51  51]\n",
            " [ 71  71]\n",
            " [ 47  47]\n",
            " [ 24  24]\n",
            " [  2   2]\n",
            " [  0   0]\n",
            " [  0   0]\n",
            " [ 25  25]\n",
            " [ 51  51]\n",
            " [ 77  77]\n",
            " [104 104]\n",
            " [ 86  86]\n",
            " [ 68  68]\n",
            " [ 51  51]\n",
            " [ 34  34]\n",
            " [ 17  17]\n",
            " [ 45  45]\n",
            " [ 73  73]\n",
            " [101 101]\n",
            " [129 129]\n",
            " [112 112]\n",
            " [ 95  95]\n",
            " [ 78  78]\n",
            " [ 61  61]\n",
            " [ 44  44]\n",
            " [ 72  72]\n",
            " [ 99  99]\n",
            " [126 126]\n",
            " [153 153]\n",
            " [135 135]\n",
            " [117 117]\n",
            " [ 99  99]\n",
            " [ 81  81]\n",
            " [ 63  63]\n",
            " [ 90  90]\n",
            " [117 117]\n",
            " [144 144]\n",
            " [171 171]\n",
            " [153 153]\n",
            " [135 135]\n",
            " [117 117]\n",
            " [ 99  99]\n",
            " [ 81  81]\n",
            " [108 108]\n",
            " [135 135]\n",
            " [162 162]\n",
            " [190 190]\n",
            " [173 173]\n",
            " [156 156]\n",
            " [140 140]\n",
            " [124 124]\n",
            " [108 108]\n",
            " [138 138]\n",
            " [168 168]\n",
            " [199 199]\n",
            " [230 230]\n",
            " [217 217]\n",
            " [204 204]\n",
            " [191 191]\n",
            " [179 179]\n",
            " [167 167]\n",
            " [200 200]\n",
            " [233 233]\n",
            " [266 266]\n",
            " [299 299]\n",
            " [287 287]\n",
            " [275 275]\n",
            " [263 263]\n",
            " [250 250]\n",
            " [236 236]\n",
            " [266 266]\n",
            " [296 296]\n",
            " [325 325]\n",
            " [352 352]\n",
            " [333 333]\n",
            " [313 313]\n",
            " [291 291]\n",
            " [268 268]\n",
            " [244 244]\n",
            " [263 263]\n",
            " [281 281]\n",
            " [297 297]\n",
            " [312 312]\n",
            " [281 281]\n",
            " [248 248]\n",
            " [259 259]\n",
            " [269 269]\n",
            " [278 278]\n",
            " [286 286]]\n",
            "Pasajeros llegando por intervalo y sentido\n",
            "[[ 8.  8.]\n",
            " [10. 10.]\n",
            " [11. 11.]\n",
            " [13. 13.]\n",
            " [14. 14.]\n",
            " [16. 16.]\n",
            " [17. 17.]\n",
            " [18. 18.]\n",
            " [20. 20.]\n",
            " [21. 21.]\n",
            " [22. 22.]\n",
            " [23. 23.]\n",
            " [24. 24.]\n",
            " [24. 24.]\n",
            " [25. 25.]\n",
            " [26. 26.]\n",
            " [26. 26.]\n",
            " [27. 27.]\n",
            " [27. 27.]\n",
            " [27. 27.]\n",
            " [28. 28.]\n",
            " [28. 28.]\n",
            " [28. 28.]\n",
            " [28. 28.]\n",
            " [28. 28.]\n",
            " [28. 28.]\n",
            " [28. 28.]\n",
            " [28. 28.]\n",
            " [28. 28.]\n",
            " [28. 28.]\n",
            " [28. 28.]\n",
            " [28. 28.]\n",
            " [28. 28.]\n",
            " [27. 27.]\n",
            " [27. 27.]\n",
            " [27. 27.]\n",
            " [27. 27.]\n",
            " [27. 27.]\n",
            " [27. 27.]\n",
            " [27. 27.]\n",
            " [27. 27.]\n",
            " [27. 27.]\n",
            " [27. 27.]\n",
            " [27. 27.]\n",
            " [27. 27.]\n",
            " [27. 27.]\n",
            " [27. 27.]\n",
            " [27. 27.]\n",
            " [27. 27.]\n",
            " [27. 27.]\n",
            " [27. 27.]\n",
            " [27. 27.]\n",
            " [27. 27.]\n",
            " [28. 28.]\n",
            " [28. 28.]\n",
            " [28. 28.]\n",
            " [29. 29.]\n",
            " [29. 29.]\n",
            " [29. 29.]\n",
            " [30. 30.]\n",
            " [30. 30.]\n",
            " [31. 31.]\n",
            " [31. 31.]\n",
            " [32. 32.]\n",
            " [32. 32.]\n",
            " [32. 32.]\n",
            " [33. 33.]\n",
            " [33. 33.]\n",
            " [33. 33.]\n",
            " [33. 33.]\n",
            " [33. 33.]\n",
            " [33. 33.]\n",
            " [33. 33.]\n",
            " [33. 33.]\n",
            " [33. 33.]\n",
            " [32. 32.]\n",
            " [31. 31.]\n",
            " [30. 30.]\n",
            " [30. 30.]\n",
            " [29. 29.]\n",
            " [27. 27.]\n",
            " [26. 26.]\n",
            " [25. 25.]\n",
            " [23. 23.]\n",
            " [22. 22.]\n",
            " [21. 21.]\n",
            " [19. 19.]\n",
            " [18. 18.]\n",
            " [16. 16.]\n",
            " [15. 15.]\n",
            " [14. 14.]\n",
            " [12. 12.]\n",
            " [11. 11.]\n",
            " [10. 10.]\n",
            " [ 9.  9.]\n",
            " [ 8.  8.]]\n"
          ]
        }
      ]
    },
    {
      "cell_type": "code",
      "source": [
        "import matplotlib.pyplot as plt\n",
        "import numpy as np"
      ],
      "metadata": {
        "id": "tYVqqPDz5cwa"
      },
      "execution_count": 631,
      "outputs": []
    },
    {
      "cell_type": "code",
      "source": [
        "# Datos para la tabla\n",
        "data = [\n",
        "    [1, 13, 1954, 38, \"0.003s\"],\n",
        "    [2, 12, 1499, 38, \"0.003s\"],\n",
        "    [3, 11, 1083, 38, \"0.003s\"],\n",
        "    [4, 10, 670, 38, \"0.004s\"],\n",
        "    [5,9,286,38,\"0.005s\"],\n",
        "    [6,8,38,38,\"0.005s\"],\n",
        "    [7,7,38,38,\"0.002s\"],\n",
        "    [6,6,38,38,\"0.007s\"],\n",
        "    [5,5,286,286,\"0.008s\"]\n",
        "]\n",
        "\n",
        "# Encabezados de las columnas\n",
        "column_labels = [\"n1\", \"n2\", \"w1\", \"w2\", \"CPU time\"]\n",
        "\n",
        "# Crear la figura y la tabla\n",
        "fig, ax = plt.subplots(figsize=(8, 4))\n",
        "ax.axis(\"off\")  # Ocultar los ejes\n",
        "table = ax.table(cellText=data, colLabels=column_labels, cellLoc='center', loc='center')\n",
        "# Ajustar el estilo de las líneas\n",
        "for i in range(len(data) + 1):  # +1 para incluir la fila de encabezado\n",
        "    for j in range(len(column_labels)):\n",
        "        cell = table[(i, j)]\n",
        "        # Para la primera fila (encabezado), mostrar superior y verticales\n",
        "        if i == 0:\n",
        "            cell.visible_edges = 'LTR'  # Borde izquierdo, derecho y superior\n",
        "        # Para la última fila, mostrar inferior y verticales\n",
        "        elif i == len(data):\n",
        "            cell.visible_edges = 'LBR'  # Borde izquierdo, derecho y inferior\n",
        "        # Para las filas intermedias, solo bordes verticales\n",
        "        else:\n",
        "            cell.visible_edges = 'LR'\n",
        "\n",
        "# Escalar la tabla para mejor visualización\n",
        "table.scale(1, 1.5)  # Escalar la tabla si es necesario para mejor visualización\n",
        "plt.text(0.5, 1, \"c = 45, h_min = 5m, h_max = 15m\", ha='center', va='center', fontsize=12, transform=ax.transAxes)\n",
        "# Mostrar la tabla\n",
        "plt.show()"
      ],
      "metadata": {
        "colab": {
          "base_uri": "https://localhost:8080/",
          "height": 354
        },
        "id": "5UyTDPs05Qn9",
        "outputId": "6b68b1c5-a4a8-499f-a0ea-75627e70602c"
      },
      "execution_count": 632,
      "outputs": [
        {
          "output_type": "display_data",
          "data": {
            "text/plain": [
              "<Figure size 800x400 with 1 Axes>"
            ],
            "image/png": "[encoded data removed]"
          },
          "metadata": {}
        }
      ]
    }
  ]
}